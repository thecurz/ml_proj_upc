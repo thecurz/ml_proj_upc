{
  "nbformat": 4,
  "nbformat_minor": 0,
  "metadata": {
    "colab": {
      "provenance": []
    },
    "kernelspec": {
      "display_name": "Python 2",
      "name": "python2"
    }
  },
  "cells": [
    {
      "metadata": {
        "id": "ESe-UjSWJN3E"
      },
      "cell_type": "markdown",
      "source": [
        "# **3D Shapes Dataset**"
      ]
    },
    {
      "metadata": {
        "id": "puor1olVJUXy"
      },
      "cell_type": "markdown",
      "source": [
        "**Imports**"
      ]
    },
    {
      "cell_type": "code",
      "source": [
        "pip install binvox-rw voxels py3dviewer"
      ],
      "metadata": {
        "id": "L7zsswgqWx8H"
      },
      "execution_count": null,
      "outputs": []
    },
    {
      "metadata": {
        "id": "Olz1lTaQnxV0"
      },
      "cell_type": "code",
      "source": [
        "from matplotlib import pyplot as plt\n",
        "import numpy as np\n",
        "import h5py"
      ],
      "execution_count": 1,
      "outputs": []
    },
    {
      "metadata": {
        "id": "zXNTxI4zXCl5",
        "outputId": "78942186-8a34-4d57-8b85-7f39e74c5f4e",
        "colab": {
          "height": 494,
          "base_uri": "https://localhost:8080/"
        }
      },
      "cell_type": "code",
      "source": [
        "# load dataset\n",
        "dataset = h5py.File('3dshapes.h5', 'r')\n",
        "print(dataset.keys())\n",
        "images = dataset['images']  # array shape [480000,64,64,3], uint8 in range(256)\n",
        "labels = dataset['labels']  # array shape [480000,6], float64\n",
        "image_shape = images.shape[1:]  # [64,64,3]\n",
        "label_shape = labels.shape[1:]  # [6]\n",
        "n_samples = labels.shape[0]  # 10*10*10*8*4*15=480000\n",
        "\n",
        "_FACTORS_IN_ORDER = ['floor_hue', 'wall_hue', 'object_hue', 'scale', 'shape',\n",
        "                     'orientation']\n",
        "_NUM_VALUES_PER_FACTOR = {'floor_hue': 10, 'wall_hue': 10, 'object_hue': 10,\n",
        "                          'scale': 8, 'shape': 4, 'orientation': 15}"
      ],
      "execution_count": 2,
      "outputs": [
        {
          "output_type": "error",
          "ename": "FileNotFoundError",
          "evalue": "ignored",
          "traceback": [
            "\u001b[0;31m---------------------------------------------------------------------------\u001b[0m",
            "\u001b[0;31mFileNotFoundError\u001b[0m                         Traceback (most recent call last)",
            "\u001b[0;32m<ipython-input-2-2fef6a23f5f6>\u001b[0m in \u001b[0;36m<cell line: 2>\u001b[0;34m()\u001b[0m\n\u001b[1;32m      1\u001b[0m \u001b[0;31m# load dataset\u001b[0m\u001b[0;34m\u001b[0m\u001b[0;34m\u001b[0m\u001b[0m\n\u001b[0;32m----> 2\u001b[0;31m \u001b[0mdataset\u001b[0m \u001b[0;34m=\u001b[0m \u001b[0mh5py\u001b[0m\u001b[0;34m.\u001b[0m\u001b[0mFile\u001b[0m\u001b[0;34m(\u001b[0m\u001b[0;34m'3dshapes.h5'\u001b[0m\u001b[0;34m,\u001b[0m \u001b[0;34m'r'\u001b[0m\u001b[0;34m)\u001b[0m\u001b[0;34m\u001b[0m\u001b[0;34m\u001b[0m\u001b[0m\n\u001b[0m\u001b[1;32m      3\u001b[0m \u001b[0mprint\u001b[0m\u001b[0;34m(\u001b[0m\u001b[0mdataset\u001b[0m\u001b[0;34m.\u001b[0m\u001b[0mkeys\u001b[0m\u001b[0;34m(\u001b[0m\u001b[0;34m)\u001b[0m\u001b[0;34m)\u001b[0m\u001b[0;34m\u001b[0m\u001b[0;34m\u001b[0m\u001b[0m\n\u001b[1;32m      4\u001b[0m \u001b[0mimages\u001b[0m \u001b[0;34m=\u001b[0m \u001b[0mdataset\u001b[0m\u001b[0;34m[\u001b[0m\u001b[0;34m'images'\u001b[0m\u001b[0;34m]\u001b[0m  \u001b[0;31m# array shape [480000,64,64,3], uint8 in range(256)\u001b[0m\u001b[0;34m\u001b[0m\u001b[0;34m\u001b[0m\u001b[0m\n\u001b[1;32m      5\u001b[0m \u001b[0mlabels\u001b[0m \u001b[0;34m=\u001b[0m \u001b[0mdataset\u001b[0m\u001b[0;34m[\u001b[0m\u001b[0;34m'labels'\u001b[0m\u001b[0;34m]\u001b[0m  \u001b[0;31m# array shape [480000,6], float64\u001b[0m\u001b[0;34m\u001b[0m\u001b[0;34m\u001b[0m\u001b[0m\n",
            "\u001b[0;32m/usr/local/lib/python3.10/dist-packages/h5py/_hl/files.py\u001b[0m in \u001b[0;36m__init__\u001b[0;34m(self, name, mode, driver, libver, userblock_size, swmr, rdcc_nslots, rdcc_nbytes, rdcc_w0, track_order, fs_strategy, fs_persist, fs_threshold, fs_page_size, page_buf_size, min_meta_keep, min_raw_keep, locking, alignment_threshold, alignment_interval, meta_block_size, **kwds)\u001b[0m\n\u001b[1;32m    565\u001b[0m                                  \u001b[0mfs_persist\u001b[0m\u001b[0;34m=\u001b[0m\u001b[0mfs_persist\u001b[0m\u001b[0;34m,\u001b[0m \u001b[0mfs_threshold\u001b[0m\u001b[0;34m=\u001b[0m\u001b[0mfs_threshold\u001b[0m\u001b[0;34m,\u001b[0m\u001b[0;34m\u001b[0m\u001b[0;34m\u001b[0m\u001b[0m\n\u001b[1;32m    566\u001b[0m                                  fs_page_size=fs_page_size)\n\u001b[0;32m--> 567\u001b[0;31m                 \u001b[0mfid\u001b[0m \u001b[0;34m=\u001b[0m \u001b[0mmake_fid\u001b[0m\u001b[0;34m(\u001b[0m\u001b[0mname\u001b[0m\u001b[0;34m,\u001b[0m \u001b[0mmode\u001b[0m\u001b[0;34m,\u001b[0m \u001b[0muserblock_size\u001b[0m\u001b[0;34m,\u001b[0m \u001b[0mfapl\u001b[0m\u001b[0;34m,\u001b[0m \u001b[0mfcpl\u001b[0m\u001b[0;34m,\u001b[0m \u001b[0mswmr\u001b[0m\u001b[0;34m=\u001b[0m\u001b[0mswmr\u001b[0m\u001b[0;34m)\u001b[0m\u001b[0;34m\u001b[0m\u001b[0;34m\u001b[0m\u001b[0m\n\u001b[0m\u001b[1;32m    568\u001b[0m \u001b[0;34m\u001b[0m\u001b[0m\n\u001b[1;32m    569\u001b[0m             \u001b[0;32mif\u001b[0m \u001b[0misinstance\u001b[0m\u001b[0;34m(\u001b[0m\u001b[0mlibver\u001b[0m\u001b[0;34m,\u001b[0m \u001b[0mtuple\u001b[0m\u001b[0;34m)\u001b[0m\u001b[0;34m:\u001b[0m\u001b[0;34m\u001b[0m\u001b[0;34m\u001b[0m\u001b[0m\n",
            "\u001b[0;32m/usr/local/lib/python3.10/dist-packages/h5py/_hl/files.py\u001b[0m in \u001b[0;36mmake_fid\u001b[0;34m(name, mode, userblock_size, fapl, fcpl, swmr)\u001b[0m\n\u001b[1;32m    229\u001b[0m         \u001b[0;32mif\u001b[0m \u001b[0mswmr\u001b[0m \u001b[0;32mand\u001b[0m \u001b[0mswmr_support\u001b[0m\u001b[0;34m:\u001b[0m\u001b[0;34m\u001b[0m\u001b[0;34m\u001b[0m\u001b[0m\n\u001b[1;32m    230\u001b[0m             \u001b[0mflags\u001b[0m \u001b[0;34m|=\u001b[0m \u001b[0mh5f\u001b[0m\u001b[0;34m.\u001b[0m\u001b[0mACC_SWMR_READ\u001b[0m\u001b[0;34m\u001b[0m\u001b[0;34m\u001b[0m\u001b[0m\n\u001b[0;32m--> 231\u001b[0;31m         \u001b[0mfid\u001b[0m \u001b[0;34m=\u001b[0m \u001b[0mh5f\u001b[0m\u001b[0;34m.\u001b[0m\u001b[0mopen\u001b[0m\u001b[0;34m(\u001b[0m\u001b[0mname\u001b[0m\u001b[0;34m,\u001b[0m \u001b[0mflags\u001b[0m\u001b[0;34m,\u001b[0m \u001b[0mfapl\u001b[0m\u001b[0;34m=\u001b[0m\u001b[0mfapl\u001b[0m\u001b[0;34m)\u001b[0m\u001b[0;34m\u001b[0m\u001b[0;34m\u001b[0m\u001b[0m\n\u001b[0m\u001b[1;32m    232\u001b[0m     \u001b[0;32melif\u001b[0m \u001b[0mmode\u001b[0m \u001b[0;34m==\u001b[0m \u001b[0;34m'r+'\u001b[0m\u001b[0;34m:\u001b[0m\u001b[0;34m\u001b[0m\u001b[0;34m\u001b[0m\u001b[0m\n\u001b[1;32m    233\u001b[0m         \u001b[0mfid\u001b[0m \u001b[0;34m=\u001b[0m \u001b[0mh5f\u001b[0m\u001b[0;34m.\u001b[0m\u001b[0mopen\u001b[0m\u001b[0;34m(\u001b[0m\u001b[0mname\u001b[0m\u001b[0;34m,\u001b[0m \u001b[0mh5f\u001b[0m\u001b[0;34m.\u001b[0m\u001b[0mACC_RDWR\u001b[0m\u001b[0;34m,\u001b[0m \u001b[0mfapl\u001b[0m\u001b[0;34m=\u001b[0m\u001b[0mfapl\u001b[0m\u001b[0;34m)\u001b[0m\u001b[0;34m\u001b[0m\u001b[0;34m\u001b[0m\u001b[0m\n",
            "\u001b[0;32mh5py/_objects.pyx\u001b[0m in \u001b[0;36mh5py._objects.with_phil.wrapper\u001b[0;34m()\u001b[0m\n",
            "\u001b[0;32mh5py/_objects.pyx\u001b[0m in \u001b[0;36mh5py._objects.with_phil.wrapper\u001b[0;34m()\u001b[0m\n",
            "\u001b[0;32mh5py/h5f.pyx\u001b[0m in \u001b[0;36mh5py.h5f.open\u001b[0;34m()\u001b[0m\n",
            "\u001b[0;31mFileNotFoundError\u001b[0m: [Errno 2] Unable to open file (unable to open file: name = '3dshapes.h5', errno = 2, error message = 'No such file or directory', flags = 0, o_flags = 0)"
          ]
        }
      ]
    },
    {
      "metadata": {
        "id": "dB0lj62CH_s0"
      },
      "cell_type": "code",
      "source": [
        "# methods for sampling unconditionally/conditionally on a given factor\n",
        "def get_index(factors):\n",
        "  \"\"\" Converts factors to indices in range(num_data)\n",
        "  Args:\n",
        "    factors: np array shape [6,batch_size].\n",
        "             factors[i]=factors[i,:] takes integer values in\n",
        "             range(_NUM_VALUES_PER_FACTOR[_FACTORS_IN_ORDER[i]]).\n",
        "\n",
        "  Returns:\n",
        "    indices: np array shape [batch_size].\n",
        "  \"\"\"\n",
        "  indices = 0\n",
        "  base = 1\n",
        "  for factor, name in reversed(list(enumerate(_FACTORS_IN_ORDER))):\n",
        "    indices += factors[factor] * base\n",
        "    base *= _NUM_VALUES_PER_FACTOR[name]\n",
        "  return indices\n",
        "\n",
        "\n",
        "def sample_random_batch(batch_size):\n",
        "  \"\"\" Samples a random batch of images.\n",
        "  Args:\n",
        "    batch_size: number of images to sample.\n",
        "\n",
        "  Returns:\n",
        "    batch: images shape [batch_size,64,64,3].\n",
        "  \"\"\"\n",
        "  indices = np.random.choice(n_samples, batch_size)\n",
        "  ims = []\n",
        "  for ind in indices:\n",
        "    im = images[ind]\n",
        "    im = np.asarray(im)\n",
        "    ims.append(im)\n",
        "  ims = np.stack(ims, axis=0)\n",
        "  ims = ims / 255. # normalise values to range [0,1]\n",
        "  ims = ims.astype(np.float32)\n",
        "  return ims.reshape([batch_size, 64, 64, 3])\n",
        "\n",
        "\n",
        "def sample_batch(batch_size, fixed_factor, fixed_factor_value):\n",
        "  \"\"\" Samples a batch of images with fixed_factor=fixed_factor_value, but with\n",
        "      the other factors varying randomly.\n",
        "  Args:\n",
        "    batch_size: number of images to sample.\n",
        "    fixed_factor: index of factor that is fixed in range(6).\n",
        "    fixed_factor_value: integer value of factor that is fixed\n",
        "      in range(_NUM_VALUES_PER_FACTOR[_FACTORS_IN_ORDER[fixed_factor]]).\n",
        "\n",
        "  Returns:\n",
        "    batch: images shape [batch_size,64,64,3]\n",
        "  \"\"\"\n",
        "  factors = np.zeros([len(_FACTORS_IN_ORDER), batch_size],\n",
        "                     dtype=np.int32)\n",
        "  for factor, name in enumerate(_FACTORS_IN_ORDER):\n",
        "    num_choices = _NUM_VALUES_PER_FACTOR[name]\n",
        "    factors[factor] = np.random.choice(num_choices, batch_size)\n",
        "  factors[fixed_factor] = fixed_factor_value\n",
        "  indices = get_index(factors)\n",
        "  ims = []\n",
        "  for ind in indices:\n",
        "    im = images[ind]\n",
        "    im = np.asarray(im)\n",
        "    ims.append(im)\n",
        "  ims = np.stack(ims, axis=0)\n",
        "  ims = ims / 255. # normalise values to range [0,1]\n",
        "  ims = ims.astype(np.float32)\n",
        "  return ims.reshape([batch_size, 64, 64, 3])"
      ],
      "execution_count": null,
      "outputs": []
    },
    {
      "metadata": {
        "id": "ahFtejDTIPkU"
      },
      "cell_type": "code",
      "source": [
        "def show_images_grid(imgs_, num_images=25):\n",
        "  ncols = int(np.ceil(num_images**0.5))\n",
        "  nrows = int(np.ceil(num_images / ncols))\n",
        "  _, axes = plt.subplots(ncols, nrows, figsize=(nrows * 3, ncols * 3))\n",
        "  axes = axes.flatten()\n",
        "\n",
        "  for ax_i, ax in enumerate(axes):\n",
        "    if ax_i < num_images:\n",
        "      ax.imshow(imgs_[ax_i], cmap='Greys_r', interpolation='nearest')\n",
        "      ax.set_xticks([])\n",
        "      ax.set_yticks([])\n",
        "    else:\n",
        "      ax.axis('off')"
      ],
      "execution_count": null,
      "outputs": []
    },
    {
      "cell_type": "code",
      "source": [
        "def convert_to_voxels(images):\n",
        "    # Define voxel parameters (adjust these as needed)\n",
        "    voxel_size = (32, 32, 32)  # Voxel size in each dimension\n",
        "    threshold = 0.5  # Threshold value for voxelization\n",
        "\n",
        "    voxel_data = []\n",
        "    for img in images:\n",
        "        # Assuming each image represents a binary object, you may need to adjust the threshold\n",
        "        binary_img = img.mean(axis=2) > threshold\n",
        "\n",
        "        # Create a Voxels object from the binary image\n",
        "        voxel = Voxels.from_binary_array(binary_img, size=voxel_size)\n",
        "        voxel_data.append(voxel)\n",
        "\n",
        "    return voxel_data"
      ],
      "metadata": {
        "id": "Zw3y-NecWat9"
      },
      "execution_count": null,
      "outputs": []
    },
    {
      "metadata": {
        "id": "lF9IStV_JG1b"
      },
      "cell_type": "code",
      "source": [
        "batch_size = 25\n",
        "img_batch = sample_random_batch(batch_size)\n",
        "\n",
        "show_images_grid(img_batch)"
      ],
      "execution_count": null,
      "outputs": []
    },
    {
      "metadata": {
        "id": "ZLPXZlRNIR9b"
      },
      "cell_type": "code",
      "source": [
        "batch_size = 25\n",
        "fixed_factor_str = 'floor_hue' #@param ['floor_hue', 'wall_hue', 'object_hue', 'scale', 'shape', 'orientation']\n",
        "fixed_factor_value = 0  # first value of floor hue - red\n",
        "fixed_factor = _FACTORS_IN_ORDER.index(fixed_factor_str)  # floor hue\n",
        "img_batch = sample_batch(batch_size, fixed_factor, fixed_factor_value)\n",
        "\n",
        "show_images_grid(img_batch)"
      ],
      "execution_count": null,
      "outputs": []
    }
  ]
}